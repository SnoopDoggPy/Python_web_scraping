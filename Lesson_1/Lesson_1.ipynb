{
 "cells": [
  {
   "cell_type": "code",
   "execution_count": 36,
   "metadata": {},
   "outputs": [],
   "source": [
    "import pprint\n",
    "import requests\n",
    "import json\n",
    "\n",
    "user = 'inconvergent'\n",
    "\n",
    "r = requests.get('https://api.github.com/users/'+user+'/repos')\n",
    "pp = pprint.PrettyPrinter(indent=4)\n",
    "if(r.ok):\n",
    "    repoItem = json.loads(r.text or r.content)\n",
    "    #pp.pprint(repoItem)\n",
    "        \n",
    "    with open('UserRepo.json', \"w\") as file:\n",
    "        json.dump(repoItem, file, indent=4)       \n"
   ]
  },
  {
   "cell_type": "code",
   "execution_count": null,
   "metadata": {},
   "outputs": [],
   "source": []
  }
 ],
 "metadata": {
  "kernelspec": {
   "display_name": "Python 3",
   "language": "python",
   "name": "python3"
  },
  "language_info": {
   "codemirror_mode": {
    "name": "ipython",
    "version": 3
   },
   "file_extension": ".py",
   "mimetype": "text/x-python",
   "name": "python",
   "nbconvert_exporter": "python",
   "pygments_lexer": "ipython3",
   "version": "3.6.10"
  }
 },
 "nbformat": 4,
 "nbformat_minor": 4
}
