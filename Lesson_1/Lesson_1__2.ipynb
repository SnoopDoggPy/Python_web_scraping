{
 "cells": [
  {
   "cell_type": "code",
   "execution_count": 14,
   "metadata": {},
   "outputs": [
    {
     "name": "stdout",
     "output_type": "stream",
     "text": [
      "{'date': '2020-06-01',\n",
      " 'explanation': 'The center of the Lagoon Nebula is a whirlwind of spectacular '\n",
      "                'star formation. Visible near the image center, at least two '\n",
      "                'long funnel-shaped clouds, each roughly half a light-year '\n",
      "                'long, have been formed by extreme stellar winds and intense '\n",
      "                'energetic starlight.  A tremendously bright nearby star, '\n",
      "                'Herschel 36, lights the area.  Vast walls of dust hide and '\n",
      "                'redden other hot young stars.  As energy from these stars '\n",
      "                'pours into the cool dust and gas, large temperature '\n",
      "                'differences in adjoining regions can be created generating '\n",
      "                'shearing winds which may cause the funnels.  This picture, '\n",
      "                'spanning about 15 light years, features two colors detected '\n",
      "                'by the orbiting Hubble Space Telescope.  The Lagoon Nebula, '\n",
      "                'also known as M8, lies about 5000 light years distant toward '\n",
      "                'the constellation of the Archer Sagittarius.',\n",
      " 'hdurl': 'https://apod.nasa.gov/apod/image/2006/LagoonCenter_HubbleGravinese_7012.jpg',\n",
      " 'media_type': 'image',\n",
      " 'service_version': 'v1',\n",
      " 'title': 'The Lively Center of the Lagoon Nebula',\n",
      " 'url': 'https://apod.nasa.gov/apod/image/2006/LagoonCenter_HubbleGravinese_960.jpg'}\n"
     ]
    }
   ],
   "source": [
    "import requests\n",
    "import json\n",
    "from urllib.request import urlretrieve\n",
    "from pprint import PrettyPrinter\n",
    "pp = PrettyPrinter()\n",
    "\n",
    "#https://api.nasa.gov/\n",
    "apiKey = 'uIg5f7YShVxP1FpObxlCY8mk9gtSBwzOTAoB9Hjy'\n",
    "\n",
    "def fetchAPOD():\n",
    "  URL_APOD = \"https://api.nasa.gov/planetary/apod\"\n",
    "  date = '2020-06-01'\n",
    "  params = {\n",
    "      'api_key':apiKey,\n",
    "      'date':date,\n",
    "      'hd':'True'\n",
    "  }\n",
    "  response = requests.get(URL_APOD,params=params).json()\n",
    "  pp.pprint(response)\n",
    "\n",
    "  with open('NasaRepo.json', \"w\") as file:\n",
    "      json.dump(response, file, indent=4)  \n",
    "\n",
    "\n",
    "fetchAPOD()"
   ]
  },
  {
   "cell_type": "code",
   "execution_count": null,
   "metadata": {},
   "outputs": [],
   "source": []
  }
 ],
 "metadata": {
  "kernelspec": {
   "display_name": "Python 3",
   "language": "python",
   "name": "python3"
  },
  "language_info": {
   "codemirror_mode": {
    "name": "ipython",
    "version": 3
   },
   "file_extension": ".py",
   "mimetype": "text/x-python",
   "name": "python",
   "nbconvert_exporter": "python",
   "pygments_lexer": "ipython3",
   "version": "3.6.10"
  }
 },
 "nbformat": 4,
 "nbformat_minor": 4
}
